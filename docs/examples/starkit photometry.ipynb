{
 "cells": [
  {
   "cell_type": "markdown",
   "metadata": {},
   "source": [
    "# Integrating photometry in StarKit #"
   ]
  },
  {
   "cell_type": "code",
   "execution_count": 8,
   "metadata": {
    "ExecuteTime": {
     "end_time": "2018-10-19T16:06:49.681513Z",
     "start_time": "2018-10-19T16:06:49.675754Z"
    },
    "collapsed": false
   },
   "outputs": [],
   "source": [
    "from starkit.gridkit import load_grid\n",
    "from starkit.base.operations.imager import Photometry\n",
    "import wsynphot"
   ]
  },
  {
   "cell_type": "code",
   "execution_count": 3,
   "metadata": {
    "ExecuteTime": {
     "end_time": "2018-10-19T16:00:33.640945Z",
     "start_time": "2018-10-19T16:00:33.635961Z"
    },
    "collapsed": true
   },
   "outputs": [],
   "source": [
    "GRID_PATH = '/Users/wkerzend/projects/starkit/grids/bosz_std_grid_r5000.h5'"
   ]
  },
  {
   "cell_type": "code",
   "execution_count": 4,
   "metadata": {
    "ExecuteTime": {
     "end_time": "2018-10-19T16:00:39.190593Z",
     "start_time": "2018-10-19T16:00:34.165575Z"
    },
    "collapsed": false
   },
   "outputs": [
    {
     "name": "stdout",
     "output_type": "stream",
     "text": [
      "[\u001b[1mstarkit.gridkit.base\u001b[0m][\u001b[1;37mINFO\u001b[0m   ]  Reading index (\u001b[1mbase.py\u001b[0m:264)\n",
      "[\u001b[1mstarkit.gridkit.base\u001b[0m][\u001b[1;37mINFO\u001b[0m   ]  Discovered columns teff, logg, mh (\u001b[1mbase.py\u001b[0m:267)\n",
      "[\u001b[1mstarkit.gridkit.base\u001b[0m][\u001b[1;37mINFO\u001b[0m   ]  Reading Fluxes (\u001b[1mbase.py\u001b[0m:270)\n",
      "[\u001b[1mstarkit.gridkit.base\u001b[0m][\u001b[1;37mINFO\u001b[0m   ]  Fluxes shape (6336, 41589) (\u001b[1mbase.py\u001b[0m:273)\n",
      "[\u001b[1mpy.warnings         \u001b[0m][\u001b[1;33mWARNING\u001b[0m]  /Users/wkerzend/anaconda3/envs/starkit/lib/python2.7/site-packages/astropy/units/format/generic.py:463: UnitsWarning: 'erg/s/angstrom' contains multiple slashes, which is discouraged by the FITS standard\n",
      "  core.UnitsWarning)\n",
      " (\u001b[1mgeneric.py\u001b[0m:463)\n",
      "[\u001b[1mstarkit.gridkit.base\u001b[0m][\u001b[1;37mINFO\u001b[0m   ]  Initializing spec grid (\u001b[1mbase.py\u001b[0m:307)\n",
      "[\u001b[1mstarkit.gridkit.base\u001b[0m][\u001b[1;33mWARNING\u001b[0m]  **** NO WAVELENGTH TYPE SET DEFAULTING TO GRID (vacuum) ****\n",
      "\n",
      " (\u001b[1mbase.py\u001b[0m:73)\n"
     ]
    }
   ],
   "source": [
    "grid = load_grid(GRID_PATH)"
   ]
  },
  {
   "cell_type": "code",
   "execution_count": 20,
   "metadata": {
    "ExecuteTime": {
     "end_time": "2018-10-19T16:17:35.766259Z",
     "start_time": "2018-10-19T16:17:35.721219Z"
    },
    "collapsed": false
   },
   "outputs": [],
   "source": [
    "decam_filters=wsynphot.FilterSet(['CTIO/DECam/u', 'CTIO/DECam/g', 'CTIO/DECam/r', 'CTIO/DECam/i', 'CTIO/DECam/z'])\n",
    "phot_operation = Photometry(filter_set=decam_filters, mag_type='ab')"
   ]
  },
  {
   "cell_type": "code",
   "execution_count": 21,
   "metadata": {
    "ExecuteTime": {
     "end_time": "2018-10-19T16:18:17.021002Z",
     "start_time": "2018-10-19T16:18:17.015314Z"
    },
    "collapsed": false
   },
   "outputs": [],
   "source": [
    "photometry = (20.3444, 18.6799, 17.6418, 17.2215, 17.0349)\n",
    "photometry_uncert = (0.0861, 0.0845, 0.0346, 0.0532, 0.0659)\n",
    "\n",
    "magset = wsynphot.MagnitudeSet(decam_filters, photometry, photometry_uncert)"
   ]
  },
  {
   "cell_type": "code",
   "execution_count": null,
   "metadata": {
    "collapsed": true
   },
   "outputs": [],
   "source": []
  }
 ],
 "metadata": {
  "kernelspec": {
   "display_name": "Python 2",
   "language": "python",
   "name": "python2"
  },
  "language_info": {
   "codemirror_mode": {
    "name": "ipython",
    "version": 2
   },
   "file_extension": ".py",
   "mimetype": "text/x-python",
   "name": "python",
   "nbconvert_exporter": "python",
   "pygments_lexer": "ipython2",
   "version": "2.7.11"
  },
  "toc": {
   "nav_menu": {},
   "number_sections": true,
   "sideBar": true,
   "skip_h1_title": false,
   "toc_cell": false,
   "toc_position": {},
   "toc_section_display": "block",
   "toc_window_display": false
  }
 },
 "nbformat": 4,
 "nbformat_minor": 1
}
