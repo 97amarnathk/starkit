{
 "cells": [
  {
   "cell_type": "markdown",
   "metadata": {},
   "source": [
    "### Preparing a raw BOSZ Grid installation ###\n",
    "\n",
    "This is needed for making custom StarKit grids - not suitable for most users. \n",
    "\n",
    "You first need to navigate to the Phoenix folder that contains the grid ('bosz')"
   ]
  },
  {
   "cell_type": "code",
   "execution_count": 1,
   "metadata": {
    "ExecuteTime": {
     "end_time": "2018-05-27T22:08:57.003460Z",
     "start_time": "2018-05-27T22:08:56.989575Z"
    },
    "collapsed": false
   },
   "outputs": [
    {
     "name": "stdout",
     "output_type": "stream",
     "text": [
      "/scigarfs/home/wkerzend/data/skgrid/bosz\n"
     ]
    }
   ],
   "source": [
    "cd ~/data/skgrid/bosz/"
   ]
  },
  {
   "cell_type": "code",
   "execution_count": 2,
   "metadata": {
    "ExecuteTime": {
     "end_time": "2018-05-27T22:09:13.686620Z",
     "start_time": "2018-05-27T22:08:57.659953Z"
    },
    "collapsed": true
   },
   "outputs": [],
   "source": [
    "from starkit.gridkit.io.phoenix import PhoenixProcessGrid\n",
    "from starkit.gridkit.io.bosz.process import BOSZProcessGrid\n",
    "from starkit.gridkit.io.bosz.base import make_raw_index, make_grid_info, cache_bosz_grid\n",
    "from starkit.gridkit import load_grid\n",
    "import pandas as pd\n",
    "from astropy import units as u\n",
    "from astropy.io import fits\n",
    "import numpy as np\n",
    "import uuid"
   ]
  },
  {
   "cell_type": "code",
   "execution_count": 3,
   "metadata": {
    "ExecuteTime": {
     "end_time": "2018-05-27T22:09:13.698972Z",
     "start_time": "2018-05-27T22:09:13.692794Z"
    },
    "collapsed": true
   },
   "outputs": [],
   "source": [
    "#make_grid_info('bosz_grid_info.h5')"
   ]
  },
  {
   "cell_type": "code",
   "execution_count": 4,
   "metadata": {
    "ExecuteTime": {
     "end_time": "2018-05-27T22:09:13.732207Z",
     "start_time": "2018-05-27T22:09:13.703529Z"
    },
    "collapsed": true
   },
   "outputs": [],
   "source": [
    "#cache_bosz_grid()"
   ]
  },
  {
   "cell_type": "code",
   "execution_count": 5,
   "metadata": {
    "ExecuteTime": {
     "end_time": "2018-05-27T22:09:14.697612Z",
     "start_time": "2018-05-27T22:09:13.737263Z"
    },
    "collapsed": true
   },
   "outputs": [],
   "source": [
    "meta = pd.read_hdf('bosz_grid_info.h5', 'meta')\n",
    "raw_index = pd.read_hdf('bosz_grid_info.h5', 'index')\n",
    "wavelength = pd.read_hdf('bosz_grid_info.h5', 'wavelength')[0].values * u.Unit(meta['wavelength_unit'])"
   ]
  },
  {
   "cell_type": "code",
   "execution_count": 43,
   "metadata": {
    "ExecuteTime": {
     "end_time": "2018-05-27T22:20:46.934884Z",
     "start_time": "2018-05-27T22:20:46.911510Z"
    },
    "collapsed": true
   },
   "outputs": [],
   "source": [
    "for col in raw_index.columns[:-1]:\n",
    "    raw_index[col] = raw_index[col].astype(np.float64)\n",
    "raw_index.logg *= 0.1"
   ]
  },
  {
   "cell_type": "code",
   "execution_count": 47,
   "metadata": {
    "ExecuteTime": {
     "end_time": "2018-05-27T22:21:08.437521Z",
     "start_time": "2018-05-27T22:21:08.417510Z"
    },
    "collapsed": true
   },
   "outputs": [],
   "source": [
    "index_filter = (raw_index.teff.between(4000, 7000) &\n",
    " raw_index.logg.between(-1, 5) &\n",
    " raw_index.mh.between(-2.5, 0.5) &\n",
    " (raw_index.alpha == 0.0))\n",
    "\n",
    "new_index = raw_index.loc[index_filter]"
   ]
  },
  {
   "cell_type": "code",
   "execution_count": 54,
   "metadata": {
    "ExecuteTime": {
     "end_time": "2018-05-27T22:24:03.079043Z",
     "start_time": "2018-05-27T22:24:03.031943Z"
    },
    "collapsed": true
   },
   "outputs": [],
   "source": [
    "bgrid = BOSZProcessGrid(new_index, wavelength, meta, \n",
    "                           wavelength_start=2000*u.angstrom, \n",
    "                           wavelength_stop=25000*u.angstrom, R=20000.0)"
   ]
  },
  {
   "cell_type": "code",
   "execution_count": 55,
   "metadata": {
    "ExecuteTime": {
     "end_time": "2018-05-27T22:32:23.589762Z",
     "start_time": "2018-05-27T22:24:05.015956Z"
    },
    "collapsed": false
   },
   "outputs": [
    {
     "name": "stderr",
     "output_type": "stream",
     "text": [
      "100% (10530 of 10530) |###################| Elapsed Time: 0:07:47 Time: 0:07:47\n"
     ]
    },
    {
     "name": "stdout",
     "output_type": "stream",
     "text": [
      "done\n"
     ]
    },
    {
     "name": "stderr",
     "output_type": "stream",
     "text": [
      "/lustre/home/wkerzend/miniconda3/envs/starkit/lib/python2.7/site-packages/pandas/core/generic.py:1299: PerformanceWarning: \n",
      "your performance may suffer as PyTables will pickle object types that it cannot\n",
      "map directly to c-types [inferred_type->mixed-integer,key->values] [items->None]\n",
      "\n",
      "  return pytables.to_hdf(path_or_buf, key, self, **kwargs)\n"
     ]
    }
   ],
   "source": [
    "bgrid.to_hdf('rcw86_fs1_bosz_grid.h5')"
   ]
  },
  {
   "cell_type": "code",
   "execution_count": 8,
   "metadata": {
    "ExecuteTime": {
     "end_time": "2017-12-19T17:23:31.989687Z",
     "start_time": "2017-12-19T17:23:31.927872Z"
    },
    "collapsed": false
   },
   "outputs": [
    {
     "data": {
      "text/html": [
       "<div>\n",
       "<table border=\"1\" class=\"dataframe\">\n",
       "  <thead>\n",
       "    <tr style=\"text-align: right;\">\n",
       "      <th></th>\n",
       "      <th>teff</th>\n",
       "      <th>logg</th>\n",
       "      <th>mh</th>\n",
       "      <th>alpha</th>\n",
       "    </tr>\n",
       "  </thead>\n",
       "  <tbody>\n",
       "    <tr>\n",
       "      <th>0</th>\n",
       "      <td>2300</td>\n",
       "      <td>0</td>\n",
       "      <td>0.5</td>\n",
       "      <td>0</td>\n",
       "    </tr>\n",
       "    <tr>\n",
       "      <th>1</th>\n",
       "      <td>2300</td>\n",
       "      <td>0.5</td>\n",
       "      <td>0.5</td>\n",
       "      <td>0</td>\n",
       "    </tr>\n",
       "    <tr>\n",
       "      <th>2</th>\n",
       "      <td>2300</td>\n",
       "      <td>1</td>\n",
       "      <td>0.5</td>\n",
       "      <td>0</td>\n",
       "    </tr>\n",
       "    <tr>\n",
       "      <th>3</th>\n",
       "      <td>2300</td>\n",
       "      <td>1.5</td>\n",
       "      <td>0.5</td>\n",
       "      <td>0</td>\n",
       "    </tr>\n",
       "    <tr>\n",
       "      <th>4</th>\n",
       "      <td>2300</td>\n",
       "      <td>2</td>\n",
       "      <td>0.5</td>\n",
       "      <td>0</td>\n",
       "    </tr>\n",
       "    <tr>\n",
       "      <th>5</th>\n",
       "      <td>2300</td>\n",
       "      <td>2.5</td>\n",
       "      <td>0.5</td>\n",
       "      <td>0</td>\n",
       "    </tr>\n",
       "    <tr>\n",
       "      <th>6</th>\n",
       "      <td>2300</td>\n",
       "      <td>3</td>\n",
       "      <td>0.5</td>\n",
       "      <td>0</td>\n",
       "    </tr>\n",
       "    <tr>\n",
       "      <th>7</th>\n",
       "      <td>2300</td>\n",
       "      <td>3.5</td>\n",
       "      <td>0.5</td>\n",
       "      <td>0</td>\n",
       "    </tr>\n",
       "    <tr>\n",
       "      <th>8</th>\n",
       "      <td>2300</td>\n",
       "      <td>4</td>\n",
       "      <td>0.5</td>\n",
       "      <td>0</td>\n",
       "    </tr>\n",
       "    <tr>\n",
       "      <th>9</th>\n",
       "      <td>2300</td>\n",
       "      <td>4.5</td>\n",
       "      <td>0.5</td>\n",
       "      <td>0</td>\n",
       "    </tr>\n",
       "    <tr>\n",
       "      <th>10</th>\n",
       "      <td>2300</td>\n",
       "      <td>5</td>\n",
       "      <td>0.5</td>\n",
       "      <td>0</td>\n",
       "    </tr>\n",
       "    <tr>\n",
       "      <th>11</th>\n",
       "      <td>2300</td>\n",
       "      <td>5.5</td>\n",
       "      <td>0.5</td>\n",
       "      <td>0</td>\n",
       "    </tr>\n",
       "    <tr>\n",
       "      <th>12</th>\n",
       "      <td>2300</td>\n",
       "      <td>6</td>\n",
       "      <td>0.5</td>\n",
       "      <td>0</td>\n",
       "    </tr>\n",
       "    <tr>\n",
       "      <th>13</th>\n",
       "      <td>2400</td>\n",
       "      <td>-0.5</td>\n",
       "      <td>0.5</td>\n",
       "      <td>0</td>\n",
       "    </tr>\n",
       "    <tr>\n",
       "      <th>14</th>\n",
       "      <td>2400</td>\n",
       "      <td>0</td>\n",
       "      <td>0.5</td>\n",
       "      <td>0</td>\n",
       "    </tr>\n",
       "    <tr>\n",
       "      <th>15</th>\n",
       "      <td>2400</td>\n",
       "      <td>0.5</td>\n",
       "      <td>0.5</td>\n",
       "      <td>0</td>\n",
       "    </tr>\n",
       "    <tr>\n",
       "      <th>16</th>\n",
       "      <td>2400</td>\n",
       "      <td>1</td>\n",
       "      <td>0.5</td>\n",
       "      <td>0</td>\n",
       "    </tr>\n",
       "    <tr>\n",
       "      <th>17</th>\n",
       "      <td>2400</td>\n",
       "      <td>1.5</td>\n",
       "      <td>0.5</td>\n",
       "      <td>0</td>\n",
       "    </tr>\n",
       "    <tr>\n",
       "      <th>18</th>\n",
       "      <td>2400</td>\n",
       "      <td>2</td>\n",
       "      <td>0.5</td>\n",
       "      <td>0</td>\n",
       "    </tr>\n",
       "    <tr>\n",
       "      <th>19</th>\n",
       "      <td>2400</td>\n",
       "      <td>2.5</td>\n",
       "      <td>0.5</td>\n",
       "      <td>0</td>\n",
       "    </tr>\n",
       "    <tr>\n",
       "      <th>20</th>\n",
       "      <td>2400</td>\n",
       "      <td>3</td>\n",
       "      <td>0.5</td>\n",
       "      <td>0</td>\n",
       "    </tr>\n",
       "    <tr>\n",
       "      <th>21</th>\n",
       "      <td>2400</td>\n",
       "      <td>3.5</td>\n",
       "      <td>0.5</td>\n",
       "      <td>0</td>\n",
       "    </tr>\n",
       "    <tr>\n",
       "      <th>22</th>\n",
       "      <td>2400</td>\n",
       "      <td>4</td>\n",
       "      <td>0.5</td>\n",
       "      <td>0</td>\n",
       "    </tr>\n",
       "    <tr>\n",
       "      <th>23</th>\n",
       "      <td>2400</td>\n",
       "      <td>4.5</td>\n",
       "      <td>0.5</td>\n",
       "      <td>0</td>\n",
       "    </tr>\n",
       "    <tr>\n",
       "      <th>24</th>\n",
       "      <td>2400</td>\n",
       "      <td>5</td>\n",
       "      <td>0.5</td>\n",
       "      <td>0</td>\n",
       "    </tr>\n",
       "    <tr>\n",
       "      <th>25</th>\n",
       "      <td>2400</td>\n",
       "      <td>5.5</td>\n",
       "      <td>0.5</td>\n",
       "      <td>0</td>\n",
       "    </tr>\n",
       "    <tr>\n",
       "      <th>26</th>\n",
       "      <td>2400</td>\n",
       "      <td>6</td>\n",
       "      <td>0.5</td>\n",
       "      <td>0</td>\n",
       "    </tr>\n",
       "    <tr>\n",
       "      <th>27</th>\n",
       "      <td>2500</td>\n",
       "      <td>-0.5</td>\n",
       "      <td>0.5</td>\n",
       "      <td>0</td>\n",
       "    </tr>\n",
       "    <tr>\n",
       "      <th>28</th>\n",
       "      <td>2500</td>\n",
       "      <td>0</td>\n",
       "      <td>0.5</td>\n",
       "      <td>0</td>\n",
       "    </tr>\n",
       "    <tr>\n",
       "      <th>29</th>\n",
       "      <td>2500</td>\n",
       "      <td>0.5</td>\n",
       "      <td>0.5</td>\n",
       "      <td>0</td>\n",
       "    </tr>\n",
       "    <tr>\n",
       "      <th>...</th>\n",
       "      <td>...</td>\n",
       "      <td>...</td>\n",
       "      <td>...</td>\n",
       "      <td>...</td>\n",
       "    </tr>\n",
       "    <tr>\n",
       "      <th>47338</th>\n",
       "      <td>14000</td>\n",
       "      <td>2</td>\n",
       "      <td>-4</td>\n",
       "      <td>-0.4</td>\n",
       "    </tr>\n",
       "    <tr>\n",
       "      <th>47339</th>\n",
       "      <td>14000</td>\n",
       "      <td>2.5</td>\n",
       "      <td>-4</td>\n",
       "      <td>-0.4</td>\n",
       "    </tr>\n",
       "    <tr>\n",
       "      <th>47340</th>\n",
       "      <td>14000</td>\n",
       "      <td>3</td>\n",
       "      <td>-4</td>\n",
       "      <td>-0.4</td>\n",
       "    </tr>\n",
       "    <tr>\n",
       "      <th>47341</th>\n",
       "      <td>14000</td>\n",
       "      <td>3.5</td>\n",
       "      <td>-4</td>\n",
       "      <td>-0.4</td>\n",
       "    </tr>\n",
       "    <tr>\n",
       "      <th>47342</th>\n",
       "      <td>14000</td>\n",
       "      <td>4</td>\n",
       "      <td>-4</td>\n",
       "      <td>-0.4</td>\n",
       "    </tr>\n",
       "    <tr>\n",
       "      <th>47343</th>\n",
       "      <td>14000</td>\n",
       "      <td>4.5</td>\n",
       "      <td>-4</td>\n",
       "      <td>-0.4</td>\n",
       "    </tr>\n",
       "    <tr>\n",
       "      <th>47344</th>\n",
       "      <td>14000</td>\n",
       "      <td>5</td>\n",
       "      <td>-4</td>\n",
       "      <td>-0.4</td>\n",
       "    </tr>\n",
       "    <tr>\n",
       "      <th>47345</th>\n",
       "      <td>14000</td>\n",
       "      <td>5.5</td>\n",
       "      <td>-4</td>\n",
       "      <td>-0.4</td>\n",
       "    </tr>\n",
       "    <tr>\n",
       "      <th>47346</th>\n",
       "      <td>14000</td>\n",
       "      <td>6</td>\n",
       "      <td>-4</td>\n",
       "      <td>-0.4</td>\n",
       "    </tr>\n",
       "    <tr>\n",
       "      <th>47347</th>\n",
       "      <td>14000</td>\n",
       "      <td>6.5</td>\n",
       "      <td>-4</td>\n",
       "      <td>-0.4</td>\n",
       "    </tr>\n",
       "    <tr>\n",
       "      <th>47348</th>\n",
       "      <td>14500</td>\n",
       "      <td>2</td>\n",
       "      <td>-4</td>\n",
       "      <td>-0.4</td>\n",
       "    </tr>\n",
       "    <tr>\n",
       "      <th>47349</th>\n",
       "      <td>14500</td>\n",
       "      <td>2.5</td>\n",
       "      <td>-4</td>\n",
       "      <td>-0.4</td>\n",
       "    </tr>\n",
       "    <tr>\n",
       "      <th>47350</th>\n",
       "      <td>14500</td>\n",
       "      <td>3</td>\n",
       "      <td>-4</td>\n",
       "      <td>-0.4</td>\n",
       "    </tr>\n",
       "    <tr>\n",
       "      <th>47351</th>\n",
       "      <td>14500</td>\n",
       "      <td>3.5</td>\n",
       "      <td>-4</td>\n",
       "      <td>-0.4</td>\n",
       "    </tr>\n",
       "    <tr>\n",
       "      <th>47352</th>\n",
       "      <td>14500</td>\n",
       "      <td>4</td>\n",
       "      <td>-4</td>\n",
       "      <td>-0.4</td>\n",
       "    </tr>\n",
       "    <tr>\n",
       "      <th>47353</th>\n",
       "      <td>14500</td>\n",
       "      <td>4.5</td>\n",
       "      <td>-4</td>\n",
       "      <td>-0.4</td>\n",
       "    </tr>\n",
       "    <tr>\n",
       "      <th>47354</th>\n",
       "      <td>14500</td>\n",
       "      <td>5</td>\n",
       "      <td>-4</td>\n",
       "      <td>-0.4</td>\n",
       "    </tr>\n",
       "    <tr>\n",
       "      <th>47355</th>\n",
       "      <td>14500</td>\n",
       "      <td>5.5</td>\n",
       "      <td>-4</td>\n",
       "      <td>-0.4</td>\n",
       "    </tr>\n",
       "    <tr>\n",
       "      <th>47356</th>\n",
       "      <td>14500</td>\n",
       "      <td>6</td>\n",
       "      <td>-4</td>\n",
       "      <td>-0.4</td>\n",
       "    </tr>\n",
       "    <tr>\n",
       "      <th>47357</th>\n",
       "      <td>14500</td>\n",
       "      <td>6.5</td>\n",
       "      <td>-4</td>\n",
       "      <td>-0.4</td>\n",
       "    </tr>\n",
       "    <tr>\n",
       "      <th>47358</th>\n",
       "      <td>15000</td>\n",
       "      <td>2</td>\n",
       "      <td>-4</td>\n",
       "      <td>-0.4</td>\n",
       "    </tr>\n",
       "    <tr>\n",
       "      <th>47359</th>\n",
       "      <td>15000</td>\n",
       "      <td>2.5</td>\n",
       "      <td>-4</td>\n",
       "      <td>-0.4</td>\n",
       "    </tr>\n",
       "    <tr>\n",
       "      <th>47360</th>\n",
       "      <td>15000</td>\n",
       "      <td>3</td>\n",
       "      <td>-4</td>\n",
       "      <td>-0.4</td>\n",
       "    </tr>\n",
       "    <tr>\n",
       "      <th>47361</th>\n",
       "      <td>15000</td>\n",
       "      <td>3.5</td>\n",
       "      <td>-4</td>\n",
       "      <td>-0.4</td>\n",
       "    </tr>\n",
       "    <tr>\n",
       "      <th>47362</th>\n",
       "      <td>15000</td>\n",
       "      <td>4</td>\n",
       "      <td>-4</td>\n",
       "      <td>-0.4</td>\n",
       "    </tr>\n",
       "    <tr>\n",
       "      <th>47363</th>\n",
       "      <td>15000</td>\n",
       "      <td>4.5</td>\n",
       "      <td>-4</td>\n",
       "      <td>-0.4</td>\n",
       "    </tr>\n",
       "    <tr>\n",
       "      <th>47364</th>\n",
       "      <td>15000</td>\n",
       "      <td>5</td>\n",
       "      <td>-4</td>\n",
       "      <td>-0.4</td>\n",
       "    </tr>\n",
       "    <tr>\n",
       "      <th>47365</th>\n",
       "      <td>15000</td>\n",
       "      <td>5.5</td>\n",
       "      <td>-4</td>\n",
       "      <td>-0.4</td>\n",
       "    </tr>\n",
       "    <tr>\n",
       "      <th>47366</th>\n",
       "      <td>15000</td>\n",
       "      <td>6</td>\n",
       "      <td>-4</td>\n",
       "      <td>-0.4</td>\n",
       "    </tr>\n",
       "    <tr>\n",
       "      <th>47367</th>\n",
       "      <td>15000</td>\n",
       "      <td>6.5</td>\n",
       "      <td>-4</td>\n",
       "      <td>-0.4</td>\n",
       "    </tr>\n",
       "  </tbody>\n",
       "</table>\n",
       "<p>47368 rows × 4 columns</p>\n",
       "</div>"
      ],
      "text/plain": [
       "        teff logg   mh alpha\n",
       "0       2300    0  0.5     0\n",
       "1       2300  0.5  0.5     0\n",
       "2       2300    1  0.5     0\n",
       "3       2300  1.5  0.5     0\n",
       "4       2300    2  0.5     0\n",
       "5       2300  2.5  0.5     0\n",
       "6       2300    3  0.5     0\n",
       "7       2300  3.5  0.5     0\n",
       "8       2300    4  0.5     0\n",
       "9       2300  4.5  0.5     0\n",
       "10      2300    5  0.5     0\n",
       "11      2300  5.5  0.5     0\n",
       "12      2300    6  0.5     0\n",
       "13      2400 -0.5  0.5     0\n",
       "14      2400    0  0.5     0\n",
       "15      2400  0.5  0.5     0\n",
       "16      2400    1  0.5     0\n",
       "17      2400  1.5  0.5     0\n",
       "18      2400    2  0.5     0\n",
       "19      2400  2.5  0.5     0\n",
       "20      2400    3  0.5     0\n",
       "21      2400  3.5  0.5     0\n",
       "22      2400    4  0.5     0\n",
       "23      2400  4.5  0.5     0\n",
       "24      2400    5  0.5     0\n",
       "25      2400  5.5  0.5     0\n",
       "26      2400    6  0.5     0\n",
       "27      2500 -0.5  0.5     0\n",
       "28      2500    0  0.5     0\n",
       "29      2500  0.5  0.5     0\n",
       "...      ...  ...  ...   ...\n",
       "47338  14000    2   -4  -0.4\n",
       "47339  14000  2.5   -4  -0.4\n",
       "47340  14000    3   -4  -0.4\n",
       "47341  14000  3.5   -4  -0.4\n",
       "47342  14000    4   -4  -0.4\n",
       "47343  14000  4.5   -4  -0.4\n",
       "47344  14000    5   -4  -0.4\n",
       "47345  14000  5.5   -4  -0.4\n",
       "47346  14000    6   -4  -0.4\n",
       "47347  14000  6.5   -4  -0.4\n",
       "47348  14500    2   -4  -0.4\n",
       "47349  14500  2.5   -4  -0.4\n",
       "47350  14500    3   -4  -0.4\n",
       "47351  14500  3.5   -4  -0.4\n",
       "47352  14500    4   -4  -0.4\n",
       "47353  14500  4.5   -4  -0.4\n",
       "47354  14500    5   -4  -0.4\n",
       "47355  14500  5.5   -4  -0.4\n",
       "47356  14500    6   -4  -0.4\n",
       "47357  14500  6.5   -4  -0.4\n",
       "47358  15000    2   -4  -0.4\n",
       "47359  15000  2.5   -4  -0.4\n",
       "47360  15000    3   -4  -0.4\n",
       "47361  15000  3.5   -4  -0.4\n",
       "47362  15000    4   -4  -0.4\n",
       "47363  15000  4.5   -4  -0.4\n",
       "47364  15000    5   -4  -0.4\n",
       "47365  15000  5.5   -4  -0.4\n",
       "47366  15000    6   -4  -0.4\n",
       "47367  15000  6.5   -4  -0.4\n",
       "\n",
       "[47368 rows x 4 columns]"
      ]
     },
     "execution_count": 8,
     "metadata": {},
     "output_type": "execute_result"
    }
   ],
   "source": [
    "raw_index.drop('filename', axis=1)"
   ]
  },
  {
   "cell_type": "code",
   "execution_count": 13,
   "metadata": {
    "ExecuteTime": {
     "end_time": "2017-12-19T16:32:50.976345Z",
     "start_time": "2017-12-19T16:32:50.971056Z"
    },
    "collapsed": true
   },
   "outputs": [],
   "source": [
    "flux = fits.getdata('PHOENIX-ACES-AGSS-COND-2011/Z+0.5/lte02300-0.00+0.5.PHOENIX-ACES-AGSS-COND-2011-HiRes.fits')"
   ]
  },
  {
   "cell_type": "code",
   "execution_count": 10,
   "metadata": {
    "ExecuteTime": {
     "end_time": "2017-12-18T19:04:41.225283Z",
     "start_time": "2017-12-18T19:04:40.765198Z"
    },
    "collapsed": false
   },
   "outputs": [
    {
     "name": "stdout",
     "output_type": "stream",
     "text": [
      "Populating the interactive namespace from numpy and matplotlib\n"
     ]
    },
    {
     "name": "stderr",
     "output_type": "stream",
     "text": [
      "/Users/wkerzend/anaconda3/envs/starkit/lib/python2.7/site-packages/matplotlib/__init__.py:1035: UserWarning: Duplicate key in file \"/Users/wkerzend/.matplotlib/stylelib/talk_default.mplstyle\", line #33\n",
      "  (fname, cnt))\n",
      "/Users/wkerzend/anaconda3/envs/starkit/lib/python2.7/site-packages/matplotlib/__init__.py:1035: UserWarning: Duplicate key in file \"/Users/wkerzend/.matplotlib/stylelib/talk_default.mplstyle\", line #39\n",
      "  (fname, cnt))\n",
      "/Users/wkerzend/anaconda3/envs/starkit/lib/python2.7/site-packages/matplotlib/__init__.py:1035: UserWarning: Duplicate key in file \"/Users/wkerzend/.matplotlib/stylelib/talk_default.mplstyle\", line #40\n",
      "  (fname, cnt))\n"
     ]
    },
    {
     "data": {
      "text/plain": [
       "<IPython.core.display.Javascript object>"
      ]
     },
     "metadata": {},
     "output_type": "display_data"
    },
    {
     "data": {
      "text/html": [
       "<img src=\"data:image/png;base64,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\">"
      ],
      "text/plain": [
       "<IPython.core.display.HTML object>"
      ]
     },
     "metadata": {},
     "output_type": "execute_result"
    },
    {
     "data": {
      "text/plain": [
       "[<matplotlib.lines.Line2D at 0x125dba510>]"
      ]
     },
     "execution_count": 10,
     "metadata": {},
     "output_type": "execute_result"
    }
   ],
   "source": [
    "%pylab notebook\n",
    "\n",
    "plot(wavelength[1:], np.diff(wavelength))"
   ]
  }
 ],
 "metadata": {
  "kernelspec": {
   "display_name": "Python 2",
   "language": "python",
   "name": "python2"
  },
  "language_info": {
   "codemirror_mode": {
    "name": "ipython",
    "version": 2
   },
   "file_extension": ".py",
   "mimetype": "text/x-python",
   "name": "python",
   "nbconvert_exporter": "python",
   "pygments_lexer": "ipython2",
   "version": "2.7.11"
  },
  "toc": {
   "nav_menu": {},
   "number_sections": true,
   "sideBar": true,
   "skip_h1_title": false,
   "toc_cell": false,
   "toc_position": {},
   "toc_section_display": "block",
   "toc_window_display": false
  }
 },
 "nbformat": 4,
 "nbformat_minor": 1
}
